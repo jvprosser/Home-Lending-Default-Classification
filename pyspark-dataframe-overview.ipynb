{
 "cells": [
  {
   "cell_type": "code",
   "execution_count": 1,
   "metadata": {},
   "outputs": [],
   "source": [
    "#Generic Libraries\n",
    "import numpy as np # linear algebra\n",
    "import pandas as pd # data processing, CSV file I/O (e.g. pd.read_csv)\n",
    "#Data Split Libraries\n",
    "import sklearn\n",
    "from sklearn.model_selection import train_test_split\n",
    "#Tabulating Data\n",
    "from tabulate import tabulate\n",
    "#Garbage\n",
    "import gc"
   ]
  },
  {
   "cell_type": "code",
   "execution_count": 2,
   "metadata": {},
   "outputs": [],
   "source": [
    "\n",
    "#Apache Spark Libraries\n",
    "import pyspark\n",
    "from pyspark.sql import SparkSession\n",
    "#Apache Spark ML CLassifier Libraries\n",
    "from pyspark.ml.classification import DecisionTreeClassifier,RandomForestClassifier,NaiveBayes\n",
    "#Apache Spark Evaluation Library\n",
    "from pyspark.ml.evaluation import MulticlassClassificationEvaluator\n",
    "#Apache Spark Features libraries\n",
    "from pyspark.ml.feature import StandardScaler,StringIndexer, VectorAssembler, VectorIndexer, OneHotEncoder\n",
    "\n",
    "#Apache Spark Pipelin Library\n",
    "from pyspark.ml import Pipeline\n",
    "# Apache Spark `DenseVector`\n",
    "from pyspark.ml.linalg import DenseVector\n"
   ]
  },
  {
   "cell_type": "code",
   "execution_count": 3,
   "metadata": {},
   "outputs": [],
   "source": [
    "#import pyspark"
   ]
  },
  {
   "cell_type": "code",
   "execution_count": 4,
   "metadata": {},
   "outputs": [],
   "source": [
    "#from pyspark.sql import SparkSession"
   ]
  },
  {
   "cell_type": "code",
   "execution_count": 5,
   "metadata": {},
   "outputs": [
    {
     "name": "stderr",
     "output_type": "stream",
     "text": [
      "Setting spark.hadoop.yarn.resourcemanager.principal to csso_jprosser\n"
     ]
    },
    {
     "name": "stdout",
     "output_type": "stream",
     "text": [
      "Spark Application Id:spark-application-1727206986973\n"
     ]
    },
    {
     "name": "stderr",
     "output_type": "stream",
     "text": [
      "Hive Session ID = ba851a6d-3e37-4bda-a1a1-ae7d06affc6a\n"
     ]
    },
    {
     "name": "stdout",
     "output_type": "stream",
     "text": [
      "+------------------+\n",
      "|         namespace|\n",
      "+------------------+\n",
      "|           default|\n",
      "|information_schema|\n",
      "|               sys|\n",
      "+------------------+\n",
      "\n"
     ]
    }
   ],
   "source": [
    "import cml.data_v1 as cmldata\n",
    "\n",
    "# Sample in-code customization of spark configurations\n",
    "#from pyspark import SparkContext\n",
    "#SparkContext.setSystemProperty('spark.executor.cores', '1')\n",
    "#SparkContext.setSystemProperty('spark.executor.memory', '2g')\n",
    "\n",
    "CONNECTION_NAME = \"jqrhv9chljtm\"\n",
    "conn = cmldata.get_connection(CONNECTION_NAME)\n",
    "spark = conn.get_spark_session()\n",
    "\n",
    "# Sample usage to run query through spark\n",
    "EXAMPLE_SQL_QUERY = \"show databases\"\n",
    "spark.sql(EXAMPLE_SQL_QUERY).show()\n"
   ]
  },
  {
   "cell_type": "code",
   "execution_count": 6,
   "metadata": {},
   "outputs": [],
   "source": [
    "##spark = SparkSession.builder.appName(\"Practice_1\").getOrCreate()"
   ]
  },
  {
   "cell_type": "code",
   "execution_count": 7,
   "metadata": {},
   "outputs": [],
   "source": [
    "from pyspark.sql.types import StructType,StructField, StringType, IntegerType"
   ]
  },
  {
   "cell_type": "code",
   "execution_count": 8,
   "metadata": {},
   "outputs": [],
   "source": [
    "data_frame = [(\"Ahmed\",\"\",\"AlHashmi\",\"201210044\",\"Male\",20000),\n",
    "    (\"Mariam\",\"Hasan\",\"Almenhali\",\"201455411\",\"Female\",42000),\n",
    "    (\"Amna\",\"Salem\",\"Alameri\",\"202010222\",\"Female\",16000),\n",
    "    (\"Zayed\",\"Ali\",\"AlZaabi\",\"201788695\",\"Male\",26300),\n",
    "    (\"Maitha\",\"Saeed\",\"Alhosani\",\"204974582\",\"Female\",\"\"),\n",
    "    (\"Shatha\",\"Abdalqader\",\"Alharthi\",\"201788695\",\"Female\",70600),\n",
    "    (\"Abdulla\",\"Said\",\"Almessabi\",\"2011425698\",\"Male\",50300),\n",
    "    (\"Layala\",\"Hamad\",\"AlShamsi\",\"\",\"Female\",38300)\n",
    "  ]"
   ]
  },
  {
   "cell_type": "code",
   "execution_count": 9,
   "metadata": {},
   "outputs": [],
   "source": [
    "schema = StructType([ \\\n",
    "    StructField(\"firstname\",StringType(),True), \\\n",
    "    StructField(\"middlename\",StringType(),True), \\\n",
    "    StructField(\"lastname\",StringType(),True), \\\n",
    "    StructField(\"id\", StringType(), True), \\\n",
    "    StructField(\"gender\", StringType(), True), \\\n",
    "    StructField(\"salary\", StringType(), True) \\\n",
    "  ])\n"
   ]
  },
  {
   "cell_type": "code",
   "execution_count": 10,
   "metadata": {},
   "outputs": [
    {
     "name": "stdout",
     "output_type": "stream",
     "text": [
      "root\n",
      " |-- firstname: string (nullable = true)\n",
      " |-- middlename: string (nullable = true)\n",
      " |-- lastname: string (nullable = true)\n",
      " |-- id: string (nullable = true)\n",
      " |-- gender: string (nullable = true)\n",
      " |-- salary: string (nullable = true)\n",
      "\n"
     ]
    },
    {
     "name": "stderr",
     "output_type": "stream",
     "text": [
      "                                                                                \r"
     ]
    },
    {
     "name": "stdout",
     "output_type": "stream",
     "text": [
      "+---------+----------+---------+----------+------+------+\n",
      "|firstname|middlename|lastname |id        |gender|salary|\n",
      "+---------+----------+---------+----------+------+------+\n",
      "|Ahmed    |          |AlHashmi |201210044 |Male  |20000 |\n",
      "|Mariam   |Hasan     |Almenhali|201455411 |Female|42000 |\n",
      "|Amna     |Salem     |Alameri  |202010222 |Female|16000 |\n",
      "|Zayed    |Ali       |AlZaabi  |201788695 |Male  |26300 |\n",
      "|Maitha   |Saeed     |Alhosani |204974582 |Female|      |\n",
      "|Shatha   |Abdalqader|Alharthi |201788695 |Female|70600 |\n",
      "|Abdulla  |Said      |Almessabi|2011425698|Male  |50300 |\n",
      "|Layala   |Hamad     |AlShamsi |          |Female|38300 |\n",
      "+---------+----------+---------+----------+------+------+\n",
      "\n"
     ]
    }
   ],
   "source": [
    "df = spark.createDataFrame(data=data_frame,schema=schema)\n",
    "df.printSchema()\n",
    "df.show(truncate=False)"
   ]
  },
  {
   "cell_type": "code",
   "execution_count": 11,
   "metadata": {},
   "outputs": [
    {
     "name": "stdout",
     "output_type": "stream",
     "text": [
      "+---------+----------+---------+----------+------+------+\n",
      "|firstname|middlename| lastname|        id|gender|salary|\n",
      "+---------+----------+---------+----------+------+------+\n",
      "|    Ahmed|          | AlHashmi| 201210044|  Male| 20000|\n",
      "|     Amna|     Salem|  Alameri| 202010222|Female| 16000|\n",
      "|  Abdulla|      Said|Almessabi|2011425698|  Male| 50300|\n",
      "+---------+----------+---------+----------+------+------+\n",
      "\n"
     ]
    }
   ],
   "source": [
    "df.filter(df.firstname.startswith(\"A\")).show()"
   ]
  },
  {
   "cell_type": "code",
   "execution_count": 12,
   "metadata": {},
   "outputs": [
    {
     "name": "stdout",
     "output_type": "stream",
     "text": [
      "+---------+----------+--------+---------+------+------+\n",
      "|firstname|middlename|lastname|       id|gender|salary|\n",
      "+---------+----------+--------+---------+------+------+\n",
      "|     Amna|     Salem| Alameri|202010222|Female| 16000|\n",
      "|   Maitha|     Saeed|Alhosani|204974582|Female|      |\n",
      "+---------+----------+--------+---------+------+------+\n",
      "\n"
     ]
    }
   ],
   "source": [
    "df.filter(df.id.endswith(\"2\")).show()"
   ]
  },
  {
   "cell_type": "code",
   "execution_count": 13,
   "metadata": {},
   "outputs": [
    {
     "name": "stdout",
     "output_type": "stream",
     "text": [
      "+---------+----------+---------+----------+------+------+\n",
      "|firstname|middlename| lastname|        id|gender|salary|\n",
      "+---------+----------+---------+----------+------+------+\n",
      "|    Ahmed|          | AlHashmi| 201210044|  Male| 20000|\n",
      "|   Mariam|     Hasan|Almenhali| 201455411|Female| 42000|\n",
      "|     Amna|     Salem|  Alameri| 202010222|Female| 16000|\n",
      "|  Abdulla|      Said|Almessabi|2011425698|  Male| 50300|\n",
      "|   Layala|     Hamad| AlShamsi|          |Female| 38300|\n",
      "+---------+----------+---------+----------+------+------+\n",
      "\n"
     ]
    }
   ],
   "source": [
    "df.filter(df.lastname.contains(\"m\")).show()"
   ]
  },
  {
   "cell_type": "code",
   "execution_count": 14,
   "metadata": {},
   "outputs": [
    {
     "name": "stdout",
     "output_type": "stream",
     "text": [
      "+---------+----------+---------+----------+------+------+-----------+\n",
      "|firstname|middlename| lastname|        id|gender|salary|Nationality|\n",
      "+---------+----------+---------+----------+------+------+-----------+\n",
      "|    Ahmed|          | AlHashmi| 201210044|  Male| 20000|        UAE|\n",
      "|   Mariam|     Hasan|Almenhali| 201455411|Female| 42000|        UAE|\n",
      "|     Amna|     Salem|  Alameri| 202010222|Female| 16000|        UAE|\n",
      "|    Zayed|       Ali|  AlZaabi| 201788695|  Male| 26300|        UAE|\n",
      "|   Maitha|     Saeed| Alhosani| 204974582|Female|      |        UAE|\n",
      "|   Shatha|Abdalqader| Alharthi| 201788695|Female| 70600|        UAE|\n",
      "|  Abdulla|      Said|Almessabi|2011425698|  Male| 50300|        UAE|\n",
      "|   Layala|     Hamad| AlShamsi|          |Female| 38300|        UAE|\n",
      "+---------+----------+---------+----------+------+------+-----------+\n",
      "\n"
     ]
    }
   ],
   "source": [
    "from pyspark.sql.functions import col,lit \n",
    "df.withColumn(\"Nationality\", lit(\"UAE\")).show()"
   ]
  },
  {
   "cell_type": "code",
   "execution_count": 15,
   "metadata": {},
   "outputs": [
    {
     "name": "stdout",
     "output_type": "stream",
     "text": [
      "+---------+----------+---------+----------+------+------+\n",
      "|firstname|middlename| lastname|        id|gender|salary|\n",
      "+---------+----------+---------+----------+------+------+\n",
      "|    Ahmed|          | AlHashmi| 201210044|  Male| 20000|\n",
      "|   Mariam|     Hasan|Almenhali| 201455411|Female| 42000|\n",
      "|     Amna|     Salem|  Alameri| 202010222|Female| 16000|\n",
      "|    Zayed|       Ali|  AlZaabi| 201788695|  Male| 26300|\n",
      "|   Maitha|     Saeed| Alhosani| 204974582|Female|      |\n",
      "|   Shatha|Abdalqader| Alharthi| 201788695|Female| 70600|\n",
      "|  Abdulla|      Said|Almessabi|2011425698|  Male| 50300|\n",
      "|   Layala|     Hamad| AlShamsi|          |Female| 38300|\n",
      "|   Khaled|       Ali| Almasood| 201652447|  Male| 36944|\n",
      "+---------+----------+---------+----------+------+------+\n",
      "\n"
     ]
    }
   ],
   "source": [
    "newRow = spark.createDataFrame([(\"Khaled\",\"Ali\",\"Almasood\",\"201652447\",\"Male\",36944)])\n",
    "new_df = df.union(newRow)\n",
    "new_df.show()"
   ]
  },
  {
   "cell_type": "code",
   "execution_count": 16,
   "metadata": {},
   "outputs": [
    {
     "name": "stdout",
     "output_type": "stream",
     "text": [
      "+---------+----------+---------+----------+------+------+\n",
      "|firstname|middlename| lastname|        id|gender|salary|\n",
      "+---------+----------+---------+----------+------+------+\n",
      "|    Ahmed|          | AlHashmi| 201210044|  Male| 20000|\n",
      "|   Mariam|     Hasan|Almenhali| 201455411|Female| 42000|\n",
      "|     Amna|     Salem|  Alameri| 202010222|Female| 16000|\n",
      "|    Zayed|       Ali|  AlZaabi| 201788695|  Male| 26300|\n",
      "|   Maitha|     Saeed| Alhosani| 204974582|Female|      |\n",
      "|   Shatha|Abdalqader| Alharthi| 201788695|Female| 70600|\n",
      "|  Abdulla|      Said|Almessabi|2011425698|  Male| 50300|\n",
      "|   Layala|     Hamad| AlShamsi|          |Female| 38300|\n",
      "|   Khaled|       Ali| Almasood| 201652447|  Male| 36944|\n",
      "|     Reem|  Buthaina|    Zayed| 202499999|Female| 10000|\n",
      "+---------+----------+---------+----------+------+------+\n",
      "\n"
     ]
    }
   ],
   "source": [
    "newRow = spark.createDataFrame([(\"Reem\",\"Buthaina\",\"Zayed\",\"202499999\",\"Female\",10000)])\n",
    "new_df = new_df.union(newRow)\n",
    "new_df.show()"
   ]
  },
  {
   "cell_type": "code",
   "execution_count": 17,
   "metadata": {},
   "outputs": [
    {
     "name": "stderr",
     "output_type": "stream",
     "text": [
      "                                                                                \r"
     ]
    },
    {
     "name": "stdout",
     "output_type": "stream",
     "text": [
      "+---------+----------+---------+----------+------+------+---------+\n",
      "|firstname|middlename| lastname|        id|gender|salary|   levels|\n",
      "+---------+----------+---------+----------+------+------+---------+\n",
      "|    Ahmed|          | AlHashmi| 201210044|  Male| 20000|   senior|\n",
      "|   Mariam|     Hasan|Almenhali| 201455411|Female| 42000|executive|\n",
      "|     Amna|     Salem|  Alameri| 202010222|Female| 16000|  workers|\n",
      "|    Zayed|       Ali|  AlZaabi| 201788695|  Male| 26300|   senior|\n",
      "|   Maitha|     Saeed| Alhosani| 204974582|Female|      |executive|\n",
      "|   Shatha|Abdalqader| Alharthi| 201788695|Female| 70600|executive|\n",
      "|  Abdulla|      Said|Almessabi|2011425698|  Male| 50300|executive|\n",
      "|   Layala|     Hamad| AlShamsi|          |Female| 38300|executive|\n",
      "|   Khaled|       Ali| Almasood| 201652447|  Male| 36944|   senior|\n",
      "|     Reem|  Buthaina|    Zayed| 202499999|Female| 10000|  workers|\n",
      "+---------+----------+---------+----------+------+------+---------+\n",
      "\n"
     ]
    }
   ],
   "source": [
    "from pyspark.sql.functions import when\n",
    "new_df.withColumn(\"levels\",\n",
    "    when((new_df.salary < 18000), lit(\"workers\"))\n",
    "     .when ((new_df.salary > 18000) & (new_df.salary <=38000), lit(\"senior\"))             \n",
    "       .otherwise(lit(\"executive\"))\n",
    "                 ).show()"
   ]
  },
  {
   "cell_type": "code",
   "execution_count": 18,
   "metadata": {},
   "outputs": [
    {
     "name": "stderr",
     "output_type": "stream",
     "text": [
      "[Stage 18:======================================>                   (4 + 1) / 6]\r"
     ]
    },
    {
     "name": "stdout",
     "output_type": "stream",
     "text": [
      "+---------+----------+--------+---+------+------+\n",
      "|firstname|middlename|lastname| id|gender|salary|\n",
      "+---------+----------+--------+---+------+------+\n",
      "|        0|         1|       0|  1|     0|     1|\n",
      "+---------+----------+--------+---+------+------+\n",
      "\n"
     ]
    },
    {
     "name": "stderr",
     "output_type": "stream",
     "text": [
      "                                                                                \r"
     ]
    }
   ],
   "source": [
    "from pyspark.sql.functions import col,isnan,when,count\n",
    "df2 = new_df.select([count(when(col(c).contains('None') |\n",
    "                            col(c).contains('NULL') |\n",
    "                               (col(c) == '') |\n",
    "                               col(c).isNull() |\n",
    "                               isnan(c), c\n",
    "                               )).alias(c)\n",
    "                    for c in df.columns])\n",
    "df2.show()"
   ]
  },
  {
   "cell_type": "code",
   "execution_count": 19,
   "metadata": {},
   "outputs": [
    {
     "name": "stdout",
     "output_type": "stream",
     "text": [
      "+---------+----------+---------+----------+------+------+\n",
      "|firstname|middlename| lastname|        id|gender|salary|\n",
      "+---------+----------+---------+----------+------+------+\n",
      "|    Ahmed|      null| AlHashmi| 201210044|  Male| 20000|\n",
      "|   Mariam|     Hasan|Almenhali| 201455411|Female| 42000|\n",
      "|     Amna|     Salem|  Alameri| 202010222|Female| 16000|\n",
      "|    Zayed|       Ali|  AlZaabi| 201788695|  Male| 26300|\n",
      "|   Maitha|     Saeed| Alhosani| 204974582|Female|  null|\n",
      "|   Shatha|Abdalqader| Alharthi| 201788695|Female| 70600|\n",
      "|  Abdulla|      Said|Almessabi|2011425698|  Male| 50300|\n",
      "|   Layala|     Hamad| AlShamsi|      null|Female| 38300|\n",
      "|   Khaled|       Ali| Almasood| 201652447|  Male| 36944|\n",
      "|     Reem|  Buthaina|    Zayed| 202499999|Female| 10000|\n",
      "+---------+----------+---------+----------+------+------+\n",
      "\n"
     ]
    }
   ],
   "source": [
    "from pyspark.sql.functions import col,when\n",
    "df2=new_df.select([when(col(c)==\"\",None).otherwise(col(c)).alias(c) for c in df.columns])\n",
    "df2.show()"
   ]
  },
  {
   "cell_type": "code",
   "execution_count": 20,
   "metadata": {},
   "outputs": [
    {
     "name": "stdout",
     "output_type": "stream",
     "text": [
      "+---------+----------+---------+----------+------+------+\n",
      "|firstname|middlename| lastname|        id|gender|salary|\n",
      "+---------+----------+---------+----------+------+------+\n",
      "|   Mariam|     Hasan|Almenhali| 201455411|Female| 42000|\n",
      "|     Amna|     Salem|  Alameri| 202010222|Female| 16000|\n",
      "|    Zayed|       Ali|  AlZaabi| 201788695|  Male| 26300|\n",
      "|   Shatha|Abdalqader| Alharthi| 201788695|Female| 70600|\n",
      "|  Abdulla|      Said|Almessabi|2011425698|  Male| 50300|\n",
      "|   Khaled|       Ali| Almasood| 201652447|  Male| 36944|\n",
      "|     Reem|  Buthaina|    Zayed| 202499999|Female| 10000|\n",
      "+---------+----------+---------+----------+------+------+\n",
      "\n"
     ]
    }
   ],
   "source": [
    "#delete all missing values from all attributes\n",
    "df3 = df2.na.drop()\n",
    "df3.show()"
   ]
  },
  {
   "cell_type": "code",
   "execution_count": 21,
   "metadata": {},
   "outputs": [
    {
     "name": "stderr",
     "output_type": "stream",
     "text": [
      "[Stage 28:===========================================>              (3 + 1) / 4]\r"
     ]
    },
    {
     "name": "stdout",
     "output_type": "stream",
     "text": [
      "+---------+----------+---------+----------+------+------+---------+\n",
      "|firstname|middlename| lastname|        id|gender|salary|   levels|\n",
      "+---------+----------+---------+----------+------+------+---------+\n",
      "|   Mariam|     Hasan|Almenhali| 201455411|Female| 42000|executive|\n",
      "|     Amna|     Salem|  Alameri| 202010222|Female| 16000|  workers|\n",
      "|    Zayed|       Ali|  AlZaabi| 201788695|  Male| 26300|   senior|\n",
      "|   Shatha|Abdalqader| Alharthi| 201788695|Female| 70600|executive|\n",
      "|  Abdulla|      Said|Almessabi|2011425698|  Male| 50300|executive|\n",
      "|   Khaled|       Ali| Almasood| 201652447|  Male| 36944|   senior|\n",
      "|     Reem|  Buthaina|    Zayed| 202499999|Female| 10000|  workers|\n",
      "+---------+----------+---------+----------+------+------+---------+\n",
      "\n"
     ]
    },
    {
     "name": "stderr",
     "output_type": "stream",
     "text": [
      "                                                                                \r"
     ]
    }
   ],
   "source": [
    "from pyspark.sql.functions import when\n",
    "df3.withColumn(\"levels\",\n",
    "    when((df3.salary < 18000), lit(\"workers\"))\n",
    "     .when ((df3.salary > 18000) & (df3.salary <=38000), lit(\"senior\"))             \n",
    "       .otherwise(lit(\"executive\"))\n",
    "                 ).show()"
   ]
  },
  {
   "cell_type": "code",
   "execution_count": 22,
   "metadata": {},
   "outputs": [
    {
     "name": "stderr",
     "output_type": "stream",
     "text": [
      "[Stage 30:======================================>                   (4 + 1) / 6]\r"
     ]
    },
    {
     "name": "stdout",
     "output_type": "stream",
     "text": [
      "+---------+----------+---------+----------+------+------+\n",
      "|firstname|middlename|lastname |id        |gender|salary|\n",
      "+---------+----------+---------+----------+------+------+\n",
      "|Abdulla  |Said      |Almessabi|2011425698|Male  |50300 |\n",
      "|Amna     |Salem     |Alameri  |202010222 |Female|16000 |\n",
      "|Khaled   |Ali       |Almasood |201652447 |Male  |36944 |\n",
      "|Mariam   |Hasan     |Almenhali|201455411 |Female|42000 |\n",
      "|Reem     |Buthaina  |Zayed    |202499999 |Female|10000 |\n",
      "|Shatha   |Abdalqader|Alharthi |201788695 |Female|70600 |\n",
      "|Zayed    |Ali       |AlZaabi  |201788695 |Male  |26300 |\n",
      "+---------+----------+---------+----------+------+------+\n",
      "\n"
     ]
    },
    {
     "name": "stderr",
     "output_type": "stream",
     "text": [
      "                                                                                \r"
     ]
    }
   ],
   "source": [
    "df3.sort(col(\"firstname\")).show(truncate=False)"
   ]
  },
  {
   "cell_type": "code",
   "execution_count": 23,
   "metadata": {},
   "outputs": [
    {
     "name": "stdout",
     "output_type": "stream",
     "text": [
      "+---------+----------+---------+----------+------+------+\n",
      "|firstname|middlename|lastname |id        |gender|salary|\n",
      "+---------+----------+---------+----------+------+------+\n",
      "|Reem     |Buthaina  |Zayed    |202499999 |Female|10000 |\n",
      "|Amna     |Salem     |Alameri  |202010222 |Female|16000 |\n",
      "|Zayed    |Ali       |AlZaabi  |201788695 |Male  |26300 |\n",
      "|Khaled   |Ali       |Almasood |201652447 |Male  |36944 |\n",
      "|Mariam   |Hasan     |Almenhali|201455411 |Female|42000 |\n",
      "|Abdulla  |Said      |Almessabi|2011425698|Male  |50300 |\n",
      "|Shatha   |Abdalqader|Alharthi |201788695 |Female|70600 |\n",
      "+---------+----------+---------+----------+------+------+\n",
      "\n"
     ]
    },
    {
     "name": "stderr",
     "output_type": "stream",
     "text": [
      "                                                                                \r"
     ]
    }
   ],
   "source": [
    "df3.orderBy(col(\"salary\").asc()).show(truncate=False)"
   ]
  },
  {
   "cell_type": "code",
   "execution_count": 24,
   "metadata": {},
   "outputs": [
    {
     "name": "stdout",
     "output_type": "stream",
     "text": [
      "+---------+----------+---------+----------+------+------+\n",
      "|firstname|middlename|lastname |id        |gender|salary|\n",
      "+---------+----------+---------+----------+------+------+\n",
      "|Reem     |Buthaina  |Zayed    |202499999 |Female|10000 |\n",
      "|Amna     |Salem     |Alameri  |202010222 |Female|16000 |\n",
      "|Shatha   |Abdalqader|Alharthi |201788695 |Female|70600 |\n",
      "|Zayed    |Ali       |AlZaabi  |201788695 |Male  |26300 |\n",
      "|Khaled   |Ali       |Almasood |201652447 |Male  |36944 |\n",
      "|Mariam   |Hasan     |Almenhali|201455411 |Female|42000 |\n",
      "|Abdulla  |Said      |Almessabi|2011425698|Male  |50300 |\n",
      "+---------+----------+---------+----------+------+------+\n",
      "\n"
     ]
    },
    {
     "name": "stderr",
     "output_type": "stream",
     "text": [
      "                                                                                \r"
     ]
    }
   ],
   "source": [
    "#Sort by Descending (DESC)\n",
    "df3.sort(col(\"id\").desc()).show(truncate=False)"
   ]
  },
  {
   "cell_type": "code",
   "execution_count": 25,
   "metadata": {},
   "outputs": [
    {
     "name": "stdout",
     "output_type": "stream",
     "text": [
      "+---------+----------+---------+----------+------+------+\n",
      "|firstname|middlename| lastname|        id|gender|salary|\n",
      "+---------+----------+---------+----------+------+------+\n",
      "|   Mariam|     Hasan|Almenhali| 201455411|     F| 42000|\n",
      "|     Amna|     Salem|  Alameri| 202010222|     F| 16000|\n",
      "|    Zayed|       Ali|  AlZaabi| 201788695|     M| 26300|\n",
      "|   Shatha|Abdalqader| Alharthi| 201788695|     F| 70600|\n",
      "|  Abdulla|      Said|Almessabi|2011425698|     M| 50300|\n",
      "|   Khaled|       Ali| Almasood| 201652447|     M| 36944|\n",
      "|     Reem|  Buthaina|    Zayed| 202499999|     F| 10000|\n",
      "+---------+----------+---------+----------+------+------+\n",
      "\n"
     ]
    },
    {
     "name": "stderr",
     "output_type": "stream",
     "text": [
      "                                                                                \r"
     ]
    }
   ],
   "source": [
    "#Update Column Based on Condition\n",
    "from pyspark.sql.functions import when\n",
    "df3 = df3.withColumn(\"gender\", when(df3.gender == \"Male\",\"M\")\n",
    "       .when(df3.gender == \"Female\",\"F\")\n",
    "        .otherwise(df2.gender))\n",
    "df3.show()"
   ]
  },
  {
   "cell_type": "code",
   "execution_count": 26,
   "metadata": {},
   "outputs": [],
   "source": [
    "#Practice 2\n",
    "import pyspark\n",
    "from pyspark.sql import SparkSession\n",
    "spark = SparkSession.builder.appName(\"Practice2\").getOrCreate()"
   ]
  },
  {
   "cell_type": "code",
   "execution_count": 27,
   "metadata": {},
   "outputs": [
    {
     "name": "stderr",
     "output_type": "stream",
     "text": [
      "                                                                                \r"
     ]
    }
   ],
   "source": [
    "df_pyspark=spark.read.csv(\"/home/cdsw/Loan_Default.csv\",header=True,inferSchema=True)"
   ]
  },
  {
   "cell_type": "code",
   "execution_count": 28,
   "metadata": {},
   "outputs": [
    {
     "name": "stdout",
     "output_type": "stream",
     "text": [
      "root\n",
      " |-- ID: integer (nullable = true)\n",
      " |-- year: integer (nullable = true)\n",
      " |-- loan_limit: string (nullable = true)\n",
      " |-- Gender: string (nullable = true)\n",
      " |-- approv_in_adv: string (nullable = true)\n",
      " |-- loan_type: string (nullable = true)\n",
      " |-- loan_purpose: string (nullable = true)\n",
      " |-- Credit_Worthiness: string (nullable = true)\n",
      " |-- open_credit: string (nullable = true)\n",
      " |-- business_or_commercial: string (nullable = true)\n",
      " |-- loan_amount: integer (nullable = true)\n",
      " |-- rate_of_interest: double (nullable = true)\n",
      " |-- Interest_rate_spread: double (nullable = true)\n",
      " |-- Upfront_charges: double (nullable = true)\n",
      " |-- term: double (nullable = true)\n",
      " |-- Neg_ammortization: string (nullable = true)\n",
      " |-- interest_only: string (nullable = true)\n",
      " |-- lump_sum_payment: string (nullable = true)\n",
      " |-- property_value: double (nullable = true)\n",
      " |-- construction_type: string (nullable = true)\n",
      " |-- occupancy_type: string (nullable = true)\n",
      " |-- Secured_by: string (nullable = true)\n",
      " |-- total_units: string (nullable = true)\n",
      " |-- income: double (nullable = true)\n",
      " |-- credit_type: string (nullable = true)\n",
      " |-- Credit_Score: integer (nullable = true)\n",
      " |-- co-applicant_credit_type: string (nullable = true)\n",
      " |-- age: string (nullable = true)\n",
      " |-- submission_of_application: string (nullable = true)\n",
      " |-- LTV: double (nullable = true)\n",
      " |-- Region: string (nullable = true)\n",
      " |-- Security_Type: string (nullable = true)\n",
      " |-- Status: integer (nullable = true)\n",
      " |-- dtir1: double (nullable = true)\n",
      "\n"
     ]
    }
   ],
   "source": [
    "df_pyspark.printSchema()"
   ]
  },
  {
   "cell_type": "code",
   "execution_count": 29,
   "metadata": {},
   "outputs": [
    {
     "name": "stdout",
     "output_type": "stream",
     "text": [
      "+-----+----+----------+-----------------+-------------+---------+------------+-----------------+-----------+----------------------+-----------+----------------+--------------------+---------------+-----+-----------------+-------------+----------------+--------------+-----------------+--------------+----------+-----------+-------+-----------+------------+------------------------+-----+-------------------------+-----------+-------+-------------+------+-----+\n",
      "|   ID|year|loan_limit|           Gender|approv_in_adv|loan_type|loan_purpose|Credit_Worthiness|open_credit|business_or_commercial|loan_amount|rate_of_interest|Interest_rate_spread|Upfront_charges| term|Neg_ammortization|interest_only|lump_sum_payment|property_value|construction_type|occupancy_type|Secured_by|total_units| income|credit_type|Credit_Score|co-applicant_credit_type|  age|submission_of_application|        LTV| Region|Security_Type|Status|dtir1|\n",
      "+-----+----+----------+-----------------+-------------+---------+------------+-----------------+-----------+----------------------+-----------+----------------+--------------------+---------------+-----+-----------------+-------------+----------------+--------------+-----------------+--------------+----------+-----------+-------+-----------+------------+------------------------+-----+-------------------------+-----------+-------+-------------+------+-----+\n",
      "|24890|2019|        cf|Sex Not Available|        nopre|    type1|          p1|               l1|       nopc|                 nob/c|     116500|            null|                null|           null|360.0|          not_neg|      not_int|        not_lpsm|      118000.0|               sb|            pr|      home|         1U| 1740.0|        EXP|         758|                     CIB|25-34|                  to_inst|98.72881356|  south|       direct|     1| 45.0|\n",
      "|24891|2019|        cf|             Male|        nopre|    type2|          p1|               l1|       nopc|                   b/c|     206500|            null|                null|           null|360.0|          not_neg|      not_int|            lpsm|          null|               sb|            pr|      home|         1U| 4980.0|       EQUI|         552|                     EXP|55-64|                  to_inst|       null|  North|       direct|     1| null|\n",
      "|24892|2019|        cf|             Male|          pre|    type1|          p1|               l1|       nopc|                 nob/c|     406500|            4.56|                 0.2|          595.0|360.0|          neg_amm|      not_int|        not_lpsm|      508000.0|               sb|            pr|      home|         1U| 9480.0|        EXP|         834|                     CIB|35-44|                  to_inst|80.01968504|  south|       direct|     0| 46.0|\n",
      "|24893|2019|        cf|             Male|        nopre|    type1|          p4|               l1|       nopc|                 nob/c|     456500|            4.25|               0.681|           null|360.0|          not_neg|      not_int|        not_lpsm|      658000.0|               sb|            pr|      home|         1U|11880.0|        EXP|         587|                     CIB|45-54|                 not_inst| 69.3768997|  North|       direct|     0| 42.0|\n",
      "|24894|2019|        cf|            Joint|          pre|    type1|          p1|               l1|       nopc|                 nob/c|     696500|             4.0|              0.3042|            0.0|360.0|          not_neg|      not_int|        not_lpsm|      758000.0|               sb|            pr|      home|         1U|10440.0|       CRIF|         602|                     EXP|25-34|                 not_inst|91.88654354|  North|       direct|     0| 39.0|\n",
      "|24895|2019|        cf|            Joint|          pre|    type1|          p1|               l1|       nopc|                 nob/c|     706500|            3.99|              0.1523|          370.0|360.0|          not_neg|      not_int|        not_lpsm|     1008000.0|               sb|            pr|      home|         1U|10080.0|        EXP|         864|                     EXP|35-44|                 not_inst|70.08928571|  North|       direct|     0| 40.0|\n",
      "|24896|2019|        cf|            Joint|          pre|    type1|          p3|               l1|       nopc|                 nob/c|     346500|             4.5|              0.9998|         5120.0|360.0|          not_neg|      not_int|        not_lpsm|      438000.0|               sb|            pr|      home|         1U| 5040.0|        EXP|         860|                     EXP|55-64|                  to_inst|79.10958904|  North|       direct|     0| 44.0|\n",
      "|24897|2019|      null|           Female|        nopre|    type1|          p4|               l1|       nopc|                 nob/c|     266500|           4.125|              0.2975|        5609.88|360.0|          not_neg|      not_int|        not_lpsm|      308000.0|               sb|            pr|      home|         1U| 3780.0|        CIB|         863|                     CIB|55-64|                  to_inst|86.52597403|  North|       direct|     0| 42.0|\n",
      "|24898|2019|        cf|            Joint|        nopre|    type1|          p3|               l1|       nopc|                 nob/c|     376500|           4.875|              0.7395|         1150.0|360.0|          not_neg|      not_int|        not_lpsm|      478000.0|               sb|            pr|      home|         1U| 5580.0|        CIB|         580|                     EXP|55-64|                  to_inst|78.76569038|central|       direct|     0| 44.0|\n",
      "|24899|2019|        cf|Sex Not Available|        nopre|    type3|          p3|               l1|       nopc|                 nob/c|     436500|            3.49|             -0.2776|         2316.5|360.0|          not_neg|      not_int|        not_lpsm|      688000.0|               sb|            pr|      home|         1U| 6720.0|        CIB|         788|                     EXP|55-64|                  to_inst|63.44476744|  south|       direct|     0| 30.0|\n",
      "|24900|2019|        cf|             Male|        nopre|    type2|          p3|               l2|       nopc|                   b/c|     136500|            null|                null|           null|300.0|          neg_amm|      not_int|        not_lpsm|      168000.0|               sb|            pr|      home|         1U| 4020.0|        EXP|         723|                     CIB|55-64|                  to_inst|      81.25|  North|       direct|     1| 44.0|\n",
      "|24901|2019|        cf|Sex Not Available|        nopre|    type1|          p3|               l1|       nopc|                 nob/c|     466500|           4.375|              0.1871|         1150.0|360.0|          not_neg|      not_int|        not_lpsm|      708000.0|               sb|            pr|      home|         1U| 9540.0|        EXP|         501|                     EXP|35-44|                  to_inst|65.88983051|  south|       direct|     0| 36.0|\n",
      "|24902|2019|        cf|            Joint|        nopre|    type2|          p3|               l1|       nopc|                   b/c|     206500|            null|                null|           null|360.0|          not_neg|      not_int|        not_lpsm|      258000.0|               sb|            pr|      home|         1U| 3780.0|       CRIF|         884|                     EXP|65-74|                  to_inst|80.03875969|  North|       direct|     1| 51.0|\n",
      "|24903|2019|        cf|            Joint|        nopre|    type2|          p4|               l1|       nopc|                   b/c|     436500|           3.625|              0.6146|            0.0|360.0|          not_neg|      not_int|        not_lpsm|      508000.0|               sb|            pr|      home|         1U|   null|       CRIF|         520|                     EXP|55-64|                  to_inst|85.92519685|  North|       direct|     0| null|\n",
      "|24904|2019|        cf|           Female|        nopre|    type1|          p4|               l1|       nopc|                 nob/c|     226500|             4.5|              0.4657|        3953.13|360.0|          not_neg|      not_int|        not_lpsm|      298000.0|               sb|            pr|      home|         1U| 7860.0|        CIB|         773|                     CIB|35-44|                  to_inst|76.00671141|  North|       direct|     0| 39.0|\n",
      "|24905|2019|        cf|             Male|        nopre|    type1|          p4|               l1|       nopc|                 nob/c|      76500|            null|                null|           null|360.0|          not_neg|      not_int|        not_lpsm|      138000.0|               sb|            pr|      home|         1U| 2220.0|        EXP|         685|                     CIB|45-54|                 not_inst|55.43478261|  North|       direct|     1| 20.0|\n",
      "|24906|2019|        cf|            Joint|        nopre|    type2|          p1|               l1|       nopc|                   b/c|     356500|            null|                null|           null|360.0|          neg_amm|      not_int|        not_lpsm|      368000.0|               sb|            pr|      home|         1U| 5340.0|       CRIF|         846|                     EXP|25-34|                 not_inst|     96.875|  North|       direct|     1| 44.0|\n",
      "|24907|2019|        cf|             Male|          pre|    type1|          p3|               l1|       nopc|                 nob/c|     156500|            null|                null|           null|360.0|          neg_amm|      not_int|        not_lpsm|      168000.0|               sb|            pr|      home|         1U| 3120.0|       CRIF|         534|                     CIB|65-74|                  to_inst| 93.1547619|  North|       direct|     1| 44.0|\n",
      "|24908|2019|        cf|           Female|        nopre|    type1|          p1|               l1|       nopc|                 nob/c|     406500|            4.56|               0.458|          895.0|360.0|          not_neg|      not_int|        not_lpsm|      598000.0|               sb|            pr|      home|         1U| 5340.0|        CIB|         629|                     CIB|45-54|                 not_inst|67.97658863|  North|       direct|     0| 44.0|\n",
      "|24909|2019|        cf|Sex Not Available|        nopre|    type1|          p4|               l1|       nopc|                 nob/c|     586500|           3.175|             -0.3446|          650.0|360.0|          not_neg|      not_int|        not_lpsm|      748000.0|               sb|            sr|      home|         1U|12540.0|        CIB|         688|                     EXP|55-64|                  to_inst|78.40909091|  south|       direct|     0| 31.0|\n",
      "+-----+----+----------+-----------------+-------------+---------+------------+-----------------+-----------+----------------------+-----------+----------------+--------------------+---------------+-----+-----------------+-------------+----------------+--------------+-----------------+--------------+----------+-----------+-------+-----------+------------+------------------------+-----+-------------------------+-----------+-------+-------------+------+-----+\n",
      "only showing top 20 rows\n",
      "\n"
     ]
    }
   ],
   "source": [
    "df_pyspark.show()"
   ]
  },
  {
   "cell_type": "code",
   "execution_count": 30,
   "metadata": {},
   "outputs": [
    {
     "name": "stderr",
     "output_type": "stream",
     "text": [
      "[Stage 39:=============================>                            (1 + 1) / 2]\r"
     ]
    },
    {
     "name": "stdout",
     "output_type": "stream",
     "text": [
      "+-----------------+-------+---------+----------------+---------------------+-------------------------+--------------------+---------+-------------------+-----------+-----------------+-----------+-----------+----------+\n",
      "|           Gender|max(ID)|max(year)|max(loan_amount)|max(rate_of_interest)|max(Interest_rate_spread)|max(Upfront_charges)|max(term)|max(property_value)|max(income)|max(Credit_Score)|   max(LTV)|max(Status)|max(dtir1)|\n",
      "+-----------------+-------+---------+----------------+---------------------+-------------------------+--------------------+---------+-------------------+-----------+-----------------+-----------+-----------+----------+\n",
      "|Sex Not Available| 173555|     2019|         3346500|                  7.5|                   2.5932|            37604.38|    360.0|           1.0008E7|   578580.0|              900|263.5416667|          1|      61.0|\n",
      "|           Female| 173559|     2019|         2056500|                  6.5|                   2.0022|            53485.78|    360.0|          6108000.0|   329460.0|              900|    2331.25|          1|      61.0|\n",
      "|            Joint| 173554|     2019|         2926500|                 7.75|                   2.8854|             38437.5|    360.0|           1.6508E7|   377220.0|              900|    7831.25|          1|      61.0|\n",
      "|             Male| 173557|     2019|         3576500|                  8.0|                    3.357|             60000.0|    360.0|          8508000.0|   335880.0|              900|220.3629032|          1|      61.0|\n",
      "+-----------------+-------+---------+----------------+---------------------+-------------------------+--------------------+---------+-------------------+-----------+-----------------+-----------+-----------+----------+\n",
      "\n"
     ]
    },
    {
     "name": "stderr",
     "output_type": "stream",
     "text": [
      "                                                                                \r"
     ]
    }
   ],
   "source": [
    "df_pyspark.groupBy('Gender').max().show()"
   ]
  },
  {
   "cell_type": "code",
   "execution_count": 31,
   "metadata": {},
   "outputs": [
    {
     "name": "stderr",
     "output_type": "stream",
     "text": [
      "[Stage 42:=============================>                            (1 + 1) / 2]\r"
     ]
    },
    {
     "name": "stdout",
     "output_type": "stream",
     "text": [
      "+---------+-----------+---------+----------------+---------------------+-------------------------+--------------------+----------+-------------------+-----------+-----------------+------------------+-----------+----------+\n",
      "|loan_type|    sum(ID)|sum(year)|sum(loan_amount)|sum(rate_of_interest)|sum(Interest_rate_spread)|sum(Upfront_charges)| sum(term)|sum(property_value)|sum(income)|sum(Credit_Score)|          sum(LTV)|sum(Status)|sum(dtir1)|\n",
      "+---------+-----------+---------+----------------+---------------------+-------------------------+--------------------+----------+-------------------+-----------+-----------------+------------------+-----------+----------+\n",
      "|    type3| 1461512713| 29749965|      5007887500|   39805.130000000325|      -1007.0949000000019| 2.915294928000004E7| 5155546.0|          5.32526E9| 4.839204E7|         10289460|1114599.6120457398|       3692|  313740.0|\n",
      "|    type1|11227716479|228496287|     38884764500|    359664.7499999796|       37077.368299999995| 2.969427020199926E8|3.741636E7|        5.556794E10|  8.45064E8|         79223822| 7004661.888660433|      25775| 3749966.0|\n",
      "|    type2| 2062477223| 41918478|      5334623000|    54557.91500000171|       13408.851900000041| 2.551922638999998E7| 7239109.0|         5.611426E9| 7.723188E7|         14524364|1597628.2982936897|       7172|  635893.0|\n",
      "+---------+-----------+---------+----------------+---------------------+-------------------------+--------------------+----------+-------------------+-----------+-----------------+------------------+-----------+----------+\n",
      "\n"
     ]
    },
    {
     "name": "stderr",
     "output_type": "stream",
     "text": [
      "                                                                                \r"
     ]
    }
   ],
   "source": [
    "df_pyspark.groupBy('loan_type').sum().show()"
   ]
  },
  {
   "cell_type": "code",
   "execution_count": 32,
   "metadata": {},
   "outputs": [
    {
     "name": "stderr",
     "output_type": "stream",
     "text": [
      "[Stage 45:=============================>                            (1 + 1) / 2]\r"
     ]
    },
    {
     "name": "stdout",
     "output_type": "stream",
     "text": [
      "+-----------+------------------+---------+----------------+---------------------+-------------------------+--------------------+------------------+-------------------+------------------+-----------------+------------------+-------------------+------------------+\n",
      "|loan_amount|           avg(ID)|avg(year)|avg(loan_amount)|avg(rate_of_interest)|avg(Interest_rate_spread)|avg(Upfront_charges)|         avg(term)|avg(property_value)|       avg(income)|avg(Credit_Score)|          avg(LTV)|        avg(Status)|        avg(dtir1)|\n",
      "+-----------+------------------+---------+----------------+---------------------+-------------------------+--------------------+------------------+-------------------+------------------+-----------------+------------------+-------------------+------------------+\n",
      "|     586500|  96248.1960375391|   2019.0|        586500.0|    3.944122137404581|      0.21576068702290088|  3416.7005598958335| 351.4786235662148|  829804.7673098751| 10623.55353075171|696.6308654848801| 75.14726874794557|0.18039624608967675|          38.11875|\n",
      "|     476500|  97129.3018469657|   2019.0|        476500.0|    3.910778145695352|      0.19547799867461899|  3114.3042112389976|345.87117212249206|   682165.202108963|  9543.22033898305|702.1963060686015| 74.82961623406565|0.20369393139841688| 37.39495268138801|\n",
      "|     756500| 94551.59854014599|   2019.0|        756500.0|    3.890316455696203|     0.058117721518987336|  4915.2773333333325|337.83941605839414| 1433294.1176470588|           15225.0|694.7226277372263|63.229364510588226| 0.4233576642335766|35.300970873786405|\n",
      "|    1356500|          104502.0|   2019.0|       1356500.0|              3.90375|                   0.0958|          18474.6875|             342.0| 2235142.8571428573|           22578.0|            717.4|63.300689177142864|                0.6|32.285714285714285|\n",
      "|    2396500|           39495.0|   2019.0|       2396500.0|                 null|                     null|                null|             360.0|          2298000.0|           54780.0|            869.0|       104.2863359|                1.0|              22.0|\n",
      "|     816500| 99571.81690140846|   2019.0|        816500.0|    3.927916666666667|      0.18743958333333333|   5781.685833333334|355.77464788732397| 1220580.6451612904|13694.516129032258|710.5492957746479| 70.76883635725804|  0.323943661971831| 35.64150943396226|\n",
      "|     616500| 98084.89312039311|   2019.0|        616500.0|    3.951321483771252|      0.21580263157894727|   2705.995669291338|352.64373464373466|  872068.0272108844|10336.684931506848|701.1216216216217| 75.46211977798636|0.20638820638820637|38.806748466257666|\n",
      "|      26500| 96228.03703703704|   2019.0|         26500.0|   4.8100000000000005|       1.5181666666666667|   635.2309090909092| 348.8888888888889|  81478.26086956522|            1980.0|713.1481481481482| 49.77324610956521| 0.5555555555555556|32.391304347826086|\n",
      "|    1936500|           80972.0|   2019.0|       1936500.0|                 null|                     null|                null|             360.0|          4508000.0|           15000.0|            892.0|       42.95696539|                1.0|               7.0|\n",
      "|    1636500|          114273.5|   2019.0|       1636500.0|                  4.5|                   0.1941|              409.62|             360.0|          2408000.0|           32190.0|            765.5|       68.43304048|                0.5|              34.0|\n",
      "|     116500| 98434.36970205622|   2019.0|        116500.0|   4.3201287425149495|        0.892336303431667|  2673.1713739987645| 312.6955060898782| 193227.70398481973| 3560.136460554371|695.7603860679816|  69.4112180715352| 0.3029794376835921| 36.96135265700483|\n",
      "|     686500| 101143.6906710311|   2019.0|        686500.0|    4.024948559670783|       0.2484376543209876|   3234.285450733753|353.08674304418986|    972566.78700361|11848.817204301075|701.3306055646481|  74.9315848429061|0.20458265139116202| 38.78842315369261|\n",
      "|     746500|100174.42528735632|   2019.0|        746500.0|   3.9405555555555556|      0.08695555555555555|   4970.115238095238|             352.0| 1171037.9746835444|13368.311688311689|706.2183908045977| 69.95149638911391|0.27586206896551724| 37.20289855072464|\n",
      "|     126500| 98724.85668688158|   2019.0|        126500.0|    4.272444046553238|       0.8329910193084871|  2778.2187975858837| 315.0622804215906| 226263.49431818182| 3883.577289136856|698.0357484838813| 67.14326438843209|0.28917969996808174| 37.23031856462834|\n",
      "|      66500|100884.47613504075|   2019.0|         66500.0|    4.404129158512721|       1.2400299009900992|  2014.2921041666666| 313.2027972027972|  137320.9054593875| 2695.242603550296|696.0128055878929| 66.32978549470705| 0.4121071012805588|  36.1438263229308|\n",
      "|    1416500|           98698.5|   2019.0|       1416500.0|   3.9133333333333336|                   0.0788|             6812.23|             360.0|          2980500.0|           21420.0|            715.0|       52.15067018|               0.25|             34.75|\n",
      "|    1346500|108225.16666666667|   2019.0|       1346500.0|              3.96625|      0.30347499999999994|            2642.575|             345.0| 2054363.6363636365|           17700.0|733.3333333333334|  69.6579709790909| 0.6666666666666666|              42.0|\n",
      "|    1966500|          108089.0|   2019.0|       1966500.0|                 null|                     null|                null|             360.0|          2378000.0|           32580.0|            671.0|       82.69554247|                1.0|              26.0|\n",
      "|     346500| 99769.88464391691|   2019.0|        346500.0|   3.9385298229263523|      0.30272622491833884|  3305.3012660637787|339.60979228486644| 505577.23577235773| 7079.178082191781|699.6535608308606| 74.57944365905261| 0.2051186943620178| 37.77333333333333|\n",
      "|    1036500|103110.52631578948|   2019.0|       1036500.0|    4.134545454545455|                   0.1568|  5775.4572727272725|347.36842105263156| 1474666.6666666667|20943.157894736843| 704.578947368421|      72.073663808|0.42105263157894735|              34.0|\n",
      "+-----------+------------------+---------+----------------+---------------------+-------------------------+--------------------+------------------+-------------------+------------------+-----------------+------------------+-------------------+------------------+\n",
      "only showing top 20 rows\n",
      "\n"
     ]
    },
    {
     "name": "stderr",
     "output_type": "stream",
     "text": [
      "                                                                                \r"
     ]
    }
   ],
   "source": [
    "df_pyspark.groupBy('loan_amount').mean().show()"
   ]
  },
  {
   "cell_type": "code",
   "execution_count": 33,
   "metadata": {},
   "outputs": [
    {
     "name": "stderr",
     "output_type": "stream",
     "text": [
      "[Stage 48:=============================>                            (1 + 1) / 2]\r"
     ]
    },
    {
     "name": "stdout",
     "output_type": "stream",
     "text": [
      "+------------+-----+\n",
      "|loan_purpose|count|\n",
      "+------------+-----+\n",
      "|        null|  134|\n",
      "|          p2| 3274|\n",
      "|          p1|34529|\n",
      "|          p3|55934|\n",
      "|          p4|54799|\n",
      "+------------+-----+\n",
      "\n"
     ]
    },
    {
     "name": "stderr",
     "output_type": "stream",
     "text": [
      "                                                                                \r"
     ]
    }
   ],
   "source": [
    "df_pyspark.groupBy('loan_purpose').count().show()"
   ]
  },
  {
   "cell_type": "code",
   "execution_count": 34,
   "metadata": {},
   "outputs": [
    {
     "name": "stdout",
     "output_type": "stream",
     "text": [
      "+----------------+\n",
      "|sum(loan_amount)|\n",
      "+----------------+\n",
      "|     49227275000|\n",
      "+----------------+\n",
      "\n"
     ]
    }
   ],
   "source": [
    "df_pyspark.agg({'loan_amount' : 'sum'}).show()"
   ]
  },
  {
   "cell_type": "code",
   "execution_count": 35,
   "metadata": {},
   "outputs": [
    {
     "name": "stderr",
     "output_type": "stream",
     "text": [
      "[Stage 54:=============================>                            (1 + 1) / 2]\r"
     ]
    },
    {
     "name": "stdout",
     "output_type": "stream",
     "text": [
      "+------+--------+\n",
      "| count|distinct|\n",
      "+------+--------+\n",
      "|148670|       4|\n",
      "+------+--------+\n",
      "\n"
     ]
    },
    {
     "name": "stderr",
     "output_type": "stream",
     "text": [
      "                                                                                \r"
     ]
    }
   ],
   "source": [
    "import pyspark.sql.functions as fn\n",
    "\n",
    "df_pyspark.agg(\n",
    "    fn.count('Region').alias('count'),\n",
    "    fn.countDistinct('Region').alias('distinct')\n",
    ").show()"
   ]
  },
  {
   "cell_type": "code",
   "execution_count": null,
   "metadata": {},
   "outputs": [],
   "source": []
  }
 ],
 "metadata": {
  "kaggle": {
   "accelerator": "none",
   "dataSources": [
    {
     "datasetId": 5709336,
     "sourceId": 9404282,
     "sourceType": "datasetVersion"
    }
   ],
   "dockerImageVersionId": 30761,
   "isGpuEnabled": false,
   "isInternetEnabled": true,
   "language": "python",
   "sourceType": "notebook"
  },
  "kernelspec": {
   "display_name": "Python 3 (ipykernel)",
   "language": "python",
   "name": "python3"
  },
  "language_info": {
   "codemirror_mode": {
    "name": "ipython",
    "version": 3
   },
   "file_extension": ".py",
   "mimetype": "text/x-python",
   "name": "python",
   "nbconvert_exporter": "python",
   "pygments_lexer": "ipython3",
   "version": "3.10.13"
  }
 },
 "nbformat": 4,
 "nbformat_minor": 4
}
