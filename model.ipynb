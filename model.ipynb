{
 "cells": [
  {
   "cell_type": "code",
   "execution_count": 1,
   "id": "57dcc4b8",
   "metadata": {
    "_cell_guid": "b1076dfc-b9ad-4769-8c92-a6c4dae69d19",
    "_uuid": "8f2839f25d086af736a60e9eeb907d3b93b6e0e5",
    "papermill": {
     "duration": 2.205997,
     "end_time": "2024-09-16T04:30:50.493260",
     "exception": false,
     "start_time": "2024-09-16T04:30:48.287263",
     "status": "completed"
    },
    "tags": []
   },
   "outputs": [],
   "source": [
    "import numpy as np \n",
    "import pandas as pd \n",
    "import seaborn as sns\n",
    "import matplotlib.pyplot as plt\n",
    "\n",
    "import os\n",
    "#for dirname, _, filenames in os.walk('/home/cdsw'):\n",
    "#    for filename in filenames:\n",
    "#        print(os.path.join(dirname, filename))"
   ]
  },
  {
   "cell_type": "markdown",
   "id": "85c5665c",
   "metadata": {
    "papermill": {
     "duration": 0.007081,
     "end_time": "2024-09-16T04:30:50.507798",
     "exception": false,
     "start_time": "2024-09-16T04:30:50.500717",
     "status": "completed"
    },
    "tags": []
   },
   "source": [
    "# Data Cleaning & Transformation"
   ]
  },
  {
   "cell_type": "code",
   "execution_count": 2,
   "id": "1d089417",
   "metadata": {
    "papermill": {
     "duration": 1.727514,
     "end_time": "2024-09-16T04:30:52.242453",
     "exception": false,
     "start_time": "2024-09-16T04:30:50.514939",
     "status": "completed"
    },
    "tags": []
   },
   "outputs": [
    {
     "name": "stdout",
     "output_type": "stream",
     "text": [
      "<class 'pandas.core.frame.DataFrame'>\n",
      "RangeIndex: 148670 entries, 0 to 148669\n",
      "Data columns (total 34 columns):\n",
      " #   Column                     Non-Null Count   Dtype  \n",
      "---  ------                     --------------   -----  \n",
      " 0   ID                         148670 non-null  int64  \n",
      " 1   year                       148670 non-null  int64  \n",
      " 2   loan_limit                 145326 non-null  object \n",
      " 3   Gender                     148670 non-null  object \n",
      " 4   approv_in_adv              147762 non-null  object \n",
      " 5   loan_type                  148670 non-null  object \n",
      " 6   loan_purpose               148536 non-null  object \n",
      " 7   Credit_Worthiness          148670 non-null  object \n",
      " 8   open_credit                148670 non-null  object \n",
      " 9   business_or_commercial     148670 non-null  object \n",
      " 10  loan_amount                148670 non-null  int64  \n",
      " 11  rate_of_interest           112231 non-null  float64\n",
      " 12  Interest_rate_spread       112031 non-null  float64\n",
      " 13  Upfront_charges            109028 non-null  float64\n",
      " 14  term                       148629 non-null  float64\n",
      " 15  Neg_ammortization          148549 non-null  object \n",
      " 16  interest_only              148670 non-null  object \n",
      " 17  lump_sum_payment           148670 non-null  object \n",
      " 18  property_value             133572 non-null  float64\n",
      " 19  construction_type          148670 non-null  object \n",
      " 20  occupancy_type             148670 non-null  object \n",
      " 21  Secured_by                 148670 non-null  object \n",
      " 22  total_units                148670 non-null  object \n",
      " 23  income                     139520 non-null  float64\n",
      " 24  credit_type                148670 non-null  object \n",
      " 25  Credit_Score               148670 non-null  int64  \n",
      " 26  co-applicant_credit_type   148670 non-null  object \n",
      " 27  age                        148470 non-null  object \n",
      " 28  submission_of_application  148470 non-null  object \n",
      " 29  LTV                        133572 non-null  float64\n",
      " 30  Region                     148670 non-null  object \n",
      " 31  Security_Type              148670 non-null  object \n",
      " 32  Status                     148670 non-null  int64  \n",
      " 33  dtir1                      124549 non-null  float64\n",
      "dtypes: float64(8), int64(5), object(21)\n",
      "memory usage: 38.6+ MB\n"
     ]
    }
   ],
   "source": [
    "data = pd.read_csv('/home/cdsw/Loan_Default.csv')\n",
    "data.info()"
   ]
  },
  {
   "cell_type": "code",
   "execution_count": 3,
   "id": "39677551",
   "metadata": {
    "papermill": {
     "duration": 0.290205,
     "end_time": "2024-09-16T04:30:52.540181",
     "exception": false,
     "start_time": "2024-09-16T04:30:52.249976",
     "status": "completed"
    },
    "tags": []
   },
   "outputs": [
    {
     "name": "stdout",
     "output_type": "stream",
     "text": [
      "loan_limit --------------------  ['cf' nan 'ncf']\n",
      "Gender ------------------------  ['Sex Not Available' 'Male' 'Joint' 'Female']\n",
      "approv_in_adv -----------------  ['nopre' 'pre' nan]\n",
      "loan_type ---------------------  ['type1' 'type2' 'type3']\n",
      "loan_purpose ------------------  ['p1' 'p4' 'p3' 'p2' nan]\n",
      "Credit_Worthiness -------------  ['l1' 'l2']\n",
      "open_credit -------------------  ['nopc' 'opc']\n",
      "business_or_commercial --------  ['nob/c' 'b/c']\n",
      "Neg_ammortization -------------  ['not_neg' 'neg_amm' nan]\n",
      "interest_only -----------------  ['not_int' 'int_only']\n",
      "lump_sum_payment --------------  ['not_lpsm' 'lpsm']\n",
      "construction_type -------------  ['sb' 'mh']\n",
      "occupancy_type ----------------  ['pr' 'sr' 'ir']\n",
      "Secured_by --------------------  ['home' 'land']\n",
      "total_units -------------------  ['1U' '2U' '3U' '4U']\n",
      "credit_type -------------------  ['EXP' 'EQUI' 'CRIF' 'CIB']\n",
      "co-applicant_credit_type ------  ['CIB' 'EXP']\n",
      "age ---------------------------  ['25-34' '55-64' '35-44' '45-54' '65-74' '>74' '<25' nan]\n",
      "submission_of_application -----  ['to_inst' 'not_inst' nan]\n",
      "Region ------------------------  ['south' 'North' 'central' 'North-East']\n",
      "Security_Type -----------------  ['direct' 'Indriect']\n"
     ]
    }
   ],
   "source": [
    "# Unique values of each categorical feature:\n",
    "\n",
    "for col in data.columns:\n",
    "    if data[col].dtypes == object:\n",
    "        print(col + ' ' + '-'*(30-len(col)) + ' ', data[col].unique())\n",
    "    else:\n",
    "        pass"
   ]
  },
  {
   "cell_type": "markdown",
   "id": "abbd844e",
   "metadata": {
    "papermill": {
     "duration": 0.007548,
     "end_time": "2024-09-16T04:30:52.555448",
     "exception": false,
     "start_time": "2024-09-16T04:30:52.547900",
     "status": "completed"
    },
    "tags": []
   },
   "source": [
    "**Understanding some abbreviations and their meaning:**\n",
    "* Loan limit: CF (conforming) or NCF (non-conforming). Conforming loans meet the criteria for purchases by Fannie Mae or Freddie Mac to issue MBS, thus usually have lower interest or downpayment. ([source](https://www.quickenloans.com/learn/what-is-a-conforming-loan))\n",
    "* Approveal in advance (approv_in_adv): as the name suggests.\n",
    "* Open credit: whether the borrower is allowed to borrow more money.\n",
    "* Neg ammortization: A negative amortization loan is one in which unpaid interest is added to the balance of unpaid principal. ([source](https://www.investopedia.com/terms/n/negativeamortization.asp)) \n",
    "* Construction type: SB (splash block) or MH (manhole)\n",
    "* Occupancy type: PR, SR, and IR refer to primary, secondary and investment. Financial risks increase with the latter ones, so do interest rates. ([soure](https://www.homelendingpal.com/how-mortgage-lenders-determine-interest-rates-based-on-occupancy-types/))\n",
    "* Credit type: EXP = Experian, EQUI = Equifax, CRIF = CRIF Highmark, CIB = CIBIL. These are different credit reporting agencies. The main differences come down to the credit score calculations used and how they process information. ([source](https://www.chase.com/personal/credit-cards/education/credit-score/credit-bureau-differences) and [source](https://en.wikipedia.org/wiki/Credit_bureau))\n",
    "* Submission of application: *to_inst* seems to refer to a special method for loan approval, i.e. instance-based method. Read more at ([source](https://www.sciencedirect.com/science/article/pii/S0957417421002396)).\n",
    "* Security type: Direct or Indirect. Direct security means the borrower uses the mortgaged house to pledge against the loan. ([source](https://corporatefinanceinstitute.com/resources/commercial-lending/direct-security/#:~:text=To%20conclude%2C%20direct%20securities%20are,the%20borrower%20default%20on%20it.))\n"
   ]
  },
  {
   "cell_type": "code",
   "execution_count": 4,
   "id": "74e2239e",
   "metadata": {
    "papermill": {
     "duration": 0.067099,
     "end_time": "2024-09-16T04:30:52.630092",
     "exception": false,
     "start_time": "2024-09-16T04:30:52.562993",
     "status": "completed"
    },
    "tags": []
   },
   "outputs": [],
   "source": [
    "# Remove features that are deemed to have insignificant impact on default\n",
    "\n",
    "loan = data.copy()\n",
    "loan.drop(columns=[\n",
    "    'ID' ,'loan_limit' ,'Gender', 'construction_type', 'Secured_by', 'total_units', 'credit_type', 'co-applicant_credit_type', 'Region', 'Neg_ammortization', 'year', 'submission_of_application' , 'approv_in_adv'\n",
    "], axis=1, inplace=True)"
   ]
  },
  {
   "cell_type": "code",
   "execution_count": 5,
   "id": "05b06b22",
   "metadata": {
    "papermill": {
     "duration": 0.152948,
     "end_time": "2024-09-16T04:30:52.790918",
     "exception": false,
     "start_time": "2024-09-16T04:30:52.637970",
     "status": "completed"
    },
    "tags": []
   },
   "outputs": [
    {
     "data": {
      "text/html": [
       "<div>\n",
       "<style scoped>\n",
       "    .dataframe tbody tr th:only-of-type {\n",
       "        vertical-align: middle;\n",
       "    }\n",
       "\n",
       "    .dataframe tbody tr th {\n",
       "        vertical-align: top;\n",
       "    }\n",
       "\n",
       "    .dataframe thead th {\n",
       "        text-align: right;\n",
       "    }\n",
       "</style>\n",
       "<table border=\"1\" class=\"dataframe\">\n",
       "  <thead>\n",
       "    <tr style=\"text-align: right;\">\n",
       "      <th></th>\n",
       "      <th>loan_amount</th>\n",
       "      <th>rate_of_interest</th>\n",
       "      <th>Interest_rate_spread</th>\n",
       "      <th>Upfront_charges</th>\n",
       "      <th>term</th>\n",
       "      <th>property_value</th>\n",
       "      <th>income</th>\n",
       "      <th>Credit_Score</th>\n",
       "      <th>LTV</th>\n",
       "      <th>Status</th>\n",
       "      <th>dtir1</th>\n",
       "    </tr>\n",
       "  </thead>\n",
       "  <tbody>\n",
       "    <tr>\n",
       "      <th>count</th>\n",
       "      <td>1.486700e+05</td>\n",
       "      <td>112231.000000</td>\n",
       "      <td>112031.000000</td>\n",
       "      <td>109028.000000</td>\n",
       "      <td>148629.000000</td>\n",
       "      <td>1.335720e+05</td>\n",
       "      <td>139520.000000</td>\n",
       "      <td>148670.000000</td>\n",
       "      <td>133572.000000</td>\n",
       "      <td>148670.000000</td>\n",
       "      <td>124549.000000</td>\n",
       "    </tr>\n",
       "    <tr>\n",
       "      <th>mean</th>\n",
       "      <td>3.311177e+05</td>\n",
       "      <td>4.045476</td>\n",
       "      <td>0.441656</td>\n",
       "      <td>3224.996127</td>\n",
       "      <td>335.136582</td>\n",
       "      <td>4.978935e+05</td>\n",
       "      <td>6957.338876</td>\n",
       "      <td>699.789103</td>\n",
       "      <td>72.746457</td>\n",
       "      <td>0.246445</td>\n",
       "      <td>37.732932</td>\n",
       "    </tr>\n",
       "    <tr>\n",
       "      <th>std</th>\n",
       "      <td>1.839093e+05</td>\n",
       "      <td>0.561391</td>\n",
       "      <td>0.513043</td>\n",
       "      <td>3251.121510</td>\n",
       "      <td>58.409084</td>\n",
       "      <td>3.599353e+05</td>\n",
       "      <td>6496.586382</td>\n",
       "      <td>115.875857</td>\n",
       "      <td>39.967603</td>\n",
       "      <td>0.430942</td>\n",
       "      <td>10.545435</td>\n",
       "    </tr>\n",
       "    <tr>\n",
       "      <th>min</th>\n",
       "      <td>1.650000e+04</td>\n",
       "      <td>0.000000</td>\n",
       "      <td>-3.638000</td>\n",
       "      <td>0.000000</td>\n",
       "      <td>96.000000</td>\n",
       "      <td>8.000000e+03</td>\n",
       "      <td>0.000000</td>\n",
       "      <td>500.000000</td>\n",
       "      <td>0.967478</td>\n",
       "      <td>0.000000</td>\n",
       "      <td>5.000000</td>\n",
       "    </tr>\n",
       "    <tr>\n",
       "      <th>25%</th>\n",
       "      <td>1.965000e+05</td>\n",
       "      <td>3.625000</td>\n",
       "      <td>0.076000</td>\n",
       "      <td>581.490000</td>\n",
       "      <td>360.000000</td>\n",
       "      <td>2.680000e+05</td>\n",
       "      <td>3720.000000</td>\n",
       "      <td>599.000000</td>\n",
       "      <td>60.474860</td>\n",
       "      <td>0.000000</td>\n",
       "      <td>31.000000</td>\n",
       "    </tr>\n",
       "    <tr>\n",
       "      <th>50%</th>\n",
       "      <td>2.965000e+05</td>\n",
       "      <td>3.990000</td>\n",
       "      <td>0.390400</td>\n",
       "      <td>2596.450000</td>\n",
       "      <td>360.000000</td>\n",
       "      <td>4.180000e+05</td>\n",
       "      <td>5760.000000</td>\n",
       "      <td>699.000000</td>\n",
       "      <td>75.135870</td>\n",
       "      <td>0.000000</td>\n",
       "      <td>39.000000</td>\n",
       "    </tr>\n",
       "    <tr>\n",
       "      <th>75%</th>\n",
       "      <td>4.365000e+05</td>\n",
       "      <td>4.375000</td>\n",
       "      <td>0.775400</td>\n",
       "      <td>4812.500000</td>\n",
       "      <td>360.000000</td>\n",
       "      <td>6.280000e+05</td>\n",
       "      <td>8520.000000</td>\n",
       "      <td>800.000000</td>\n",
       "      <td>86.184211</td>\n",
       "      <td>0.000000</td>\n",
       "      <td>45.000000</td>\n",
       "    </tr>\n",
       "    <tr>\n",
       "      <th>max</th>\n",
       "      <td>3.576500e+06</td>\n",
       "      <td>8.000000</td>\n",
       "      <td>3.357000</td>\n",
       "      <td>60000.000000</td>\n",
       "      <td>360.000000</td>\n",
       "      <td>1.650800e+07</td>\n",
       "      <td>578580.000000</td>\n",
       "      <td>900.000000</td>\n",
       "      <td>7831.250000</td>\n",
       "      <td>1.000000</td>\n",
       "      <td>61.000000</td>\n",
       "    </tr>\n",
       "  </tbody>\n",
       "</table>\n",
       "</div>"
      ],
      "text/plain": [
       "        loan_amount  rate_of_interest  Interest_rate_spread  Upfront_charges  \\\n",
       "count  1.486700e+05     112231.000000         112031.000000    109028.000000   \n",
       "mean   3.311177e+05          4.045476              0.441656      3224.996127   \n",
       "std    1.839093e+05          0.561391              0.513043      3251.121510   \n",
       "min    1.650000e+04          0.000000             -3.638000         0.000000   \n",
       "25%    1.965000e+05          3.625000              0.076000       581.490000   \n",
       "50%    2.965000e+05          3.990000              0.390400      2596.450000   \n",
       "75%    4.365000e+05          4.375000              0.775400      4812.500000   \n",
       "max    3.576500e+06          8.000000              3.357000     60000.000000   \n",
       "\n",
       "                term  property_value         income   Credit_Score  \\\n",
       "count  148629.000000    1.335720e+05  139520.000000  148670.000000   \n",
       "mean      335.136582    4.978935e+05    6957.338876     699.789103   \n",
       "std        58.409084    3.599353e+05    6496.586382     115.875857   \n",
       "min        96.000000    8.000000e+03       0.000000     500.000000   \n",
       "25%       360.000000    2.680000e+05    3720.000000     599.000000   \n",
       "50%       360.000000    4.180000e+05    5760.000000     699.000000   \n",
       "75%       360.000000    6.280000e+05    8520.000000     800.000000   \n",
       "max       360.000000    1.650800e+07  578580.000000     900.000000   \n",
       "\n",
       "                 LTV         Status          dtir1  \n",
       "count  133572.000000  148670.000000  124549.000000  \n",
       "mean       72.746457       0.246445      37.732932  \n",
       "std        39.967603       0.430942      10.545435  \n",
       "min         0.967478       0.000000       5.000000  \n",
       "25%        60.474860       0.000000      31.000000  \n",
       "50%        75.135870       0.000000      39.000000  \n",
       "75%        86.184211       0.000000      45.000000  \n",
       "max      7831.250000       1.000000      61.000000  "
      ]
     },
     "execution_count": 5,
     "metadata": {},
     "output_type": "execute_result"
    }
   ],
   "source": [
    "loan.describe()"
   ]
  },
  {
   "cell_type": "markdown",
   "id": "e5e849a3",
   "metadata": {
    "papermill": {
     "duration": 0.007847,
     "end_time": "2024-09-16T04:30:52.806859",
     "exception": false,
     "start_time": "2024-09-16T04:30:52.799012",
     "status": "completed"
    },
    "tags": []
   },
   "source": [
    "Almost 25% of the loans are defaults (mean value of Status). The dataset is imbalance but not significantly. Noticably there are some loans where income = 0 and most of them defaulted as shown below."
   ]
  },
  {
   "cell_type": "code",
   "execution_count": 6,
   "id": "c5450bb8",
   "metadata": {
    "papermill": {
     "duration": 0.026055,
     "end_time": "2024-09-16T04:30:52.840944",
     "exception": false,
     "start_time": "2024-09-16T04:30:52.814889",
     "status": "completed"
    },
    "tags": []
   },
   "outputs": [
    {
     "data": {
      "text/plain": [
       "Status\n",
       "0       8\n",
       "1    1252\n",
       "Name: Status, dtype: int64"
      ]
     },
     "execution_count": 6,
     "metadata": {},
     "output_type": "execute_result"
    }
   ],
   "source": [
    "zero_income = loan[loan['income']==0]\n",
    "zero_income.groupby(['Status'])['Status'].count()"
   ]
  },
  {
   "cell_type": "code",
   "execution_count": 7,
   "id": "6c66138f",
   "metadata": {
    "papermill": {
     "duration": 0.243737,
     "end_time": "2024-09-16T04:30:53.093320",
     "exception": false,
     "start_time": "2024-09-16T04:30:52.849583",
     "status": "completed"
    },
    "tags": []
   },
   "outputs": [
    {
     "name": "stdout",
     "output_type": "stream",
     "text": [
      "Number of duplicated records:  1\n"
     ]
    }
   ],
   "source": [
    "# Checking for duplicates\n",
    "\n",
    "print('Number of duplicated records: ', len(loan[loan.duplicated() == True]))"
   ]
  },
  {
   "cell_type": "code",
   "execution_count": 8,
   "id": "2af3df7d",
   "metadata": {
    "papermill": {
     "duration": 0.485181,
     "end_time": "2024-09-16T04:30:53.586811",
     "exception": false,
     "start_time": "2024-09-16T04:30:53.101630",
     "status": "completed"
    },
    "tags": []
   },
   "outputs": [
    {
     "name": "stdout",
     "output_type": "stream",
     "text": [
      "Number of duplicated records:  1\n"
     ]
    }
   ],
   "source": [
    "# Remove duplicates and double check\n",
    "\n",
    "loan.drop_duplicates()\n",
    "print('Number of duplicated records: ', len(loan[loan.duplicated() == True]))"
   ]
  },
  {
   "cell_type": "code",
   "execution_count": 9,
   "id": "f1a50e0f",
   "metadata": {
    "papermill": {
     "duration": 0.347113,
     "end_time": "2024-09-16T04:30:53.942401",
     "exception": false,
     "start_time": "2024-09-16T04:30:53.595288",
     "status": "completed"
    },
    "tags": []
   },
   "outputs": [
    {
     "name": "stdout",
     "output_type": "stream",
     "text": [
      "Pecentage of missing data:       %\n",
      "----------------------------------\n"
     ]
    },
    {
     "data": {
      "text/plain": [
       "loan_type                  0.00\n",
       "Credit_Worthiness          0.00\n",
       "open_credit                0.00\n",
       "business_or_commercial     0.00\n",
       "loan_amount                0.00\n",
       "Credit_Score               0.00\n",
       "interest_only              0.00\n",
       "lump_sum_payment           0.00\n",
       "occupancy_type             0.00\n",
       "Status                     0.00\n",
       "Security_Type              0.00\n",
       "term                       0.03\n",
       "loan_purpose               0.09\n",
       "age                        0.13\n",
       "income                     6.56\n",
       "property_value            11.30\n",
       "LTV                       11.30\n",
       "dtir1                     19.37\n",
       "rate_of_interest          32.47\n",
       "Interest_rate_spread      32.70\n",
       "Upfront_charges           36.36\n",
       "dtype: float64"
      ]
     },
     "execution_count": 9,
     "metadata": {},
     "output_type": "execute_result"
    }
   ],
   "source": [
    "# Checking for missing data\n",
    "\n",
    "print('Pecentage of missing data:       %')\n",
    "print('----------------------------------')\n",
    "round(loan.isna().sum()/loan.count() * 100,2).sort_values()"
   ]
  },
  {
   "cell_type": "markdown",
   "id": "f3a588a4",
   "metadata": {
    "papermill": {
     "duration": 0.008262,
     "end_time": "2024-09-16T04:30:53.959206",
     "exception": false,
     "start_time": "2024-09-16T04:30:53.950944",
     "status": "completed"
    },
    "tags": []
   },
   "source": [
    "Handling missing values in each feature should be dealt with separately because they have different characteristics. It should also be done in a specific order to account for their relationship. \n",
    "\n",
    "* Term, loan_purpose, age: fill with the most popular value since missing values are insignificant.\n",
    "* income, property_value, rate_of_interest, Interest_rate_spread, Upfront_charges: fill with mean value. (AFD)\n",
    "* LTV, dtir1: fill with the result of calculations from loan amount, property value, and income. Since there are records with income=0, we will replace 0 with the mean value of income before performing divisions. (AFD)\n",
    "\n",
    "For future development, read more about different methods [here](https://www.analyticsvidhya.com/blog/2021/10/handling-missing-value/#:~:text=Impute%20with%20Averages%20or%20Midpoints,method%20can%20preserve%20data%20integrity.) and [here](https://medium.com/@pingsubhak/handling-missing-values-in-dataset-7-methods-that-you-need-to-know-5067d4e32b62#).\n",
    "\n",
    "(AFD: Area for development)"
   ]
  },
  {
   "cell_type": "code",
   "execution_count": 10,
   "id": "35492cd7",
   "metadata": {
    "papermill": {
     "duration": 0.139513,
     "end_time": "2024-09-16T04:30:54.107371",
     "exception": false,
     "start_time": "2024-09-16T04:30:53.967858",
     "status": "completed"
    },
    "tags": []
   },
   "outputs": [],
   "source": [
    "# Fill with most popular value\n",
    "g1 = ['term', 'loan_purpose', 'age', ]\n",
    "for col in g1:\n",
    "    loan[col] = loan[col].fillna(loan[col].value_counts().keys()[0])\n",
    "\n",
    "# Fill with mean\n",
    "g2 = ['income', 'property_value', 'rate_of_interest', 'Interest_rate_spread', 'Upfront_charges']\n",
    "for col in g2:\n",
    "    loan[col] = loan[col].fillna(loan[col].mean())\n",
    "    \n",
    "# Replace 0 with mean\n",
    "loan['income'] = loan['income'].replace(0, loan['income'].mean())\n",
    "    \n",
    "# Fill with calculated values\n",
    "loan['LTV'] = loan['LTV'].fillna(loan['loan_amount'] / loan['property_value'])\n",
    "loan['dtir1'] = loan['dtir1'].fillna(loan['loan_amount'] / loan['income']) "
   ]
  },
  {
   "cell_type": "code",
   "execution_count": 11,
   "id": "5a44b978",
   "metadata": {
    "papermill": {
     "duration": 0.043773,
     "end_time": "2024-09-16T04:30:54.159799",
     "exception": false,
     "start_time": "2024-09-16T04:30:54.116026",
     "status": "completed"
    },
    "tags": []
   },
   "outputs": [],
   "source": [
    "# Change the data type of Status to categorical\n",
    "\n",
    "loan = loan.astype({'Status': 'object'})"
   ]
  },
  {
   "cell_type": "code",
   "execution_count": 12,
   "id": "ce2e4a4c",
   "metadata": {
    "papermill": {
     "duration": 0.11191,
     "end_time": "2024-09-16T04:30:54.280387",
     "exception": false,
     "start_time": "2024-09-16T04:30:54.168477",
     "status": "completed"
    },
    "tags": []
   },
   "outputs": [
    {
     "data": {
      "text/html": [
       "<div>\n",
       "<style scoped>\n",
       "    .dataframe tbody tr th:only-of-type {\n",
       "        vertical-align: middle;\n",
       "    }\n",
       "\n",
       "    .dataframe tbody tr th {\n",
       "        vertical-align: top;\n",
       "    }\n",
       "\n",
       "    .dataframe thead th {\n",
       "        text-align: right;\n",
       "    }\n",
       "</style>\n",
       "<table border=\"1\" class=\"dataframe\">\n",
       "  <thead>\n",
       "    <tr style=\"text-align: right;\">\n",
       "      <th></th>\n",
       "      <th>loan_amount</th>\n",
       "      <th>rate_of_interest</th>\n",
       "      <th>Interest_rate_spread</th>\n",
       "      <th>Upfront_charges</th>\n",
       "      <th>term</th>\n",
       "      <th>property_value</th>\n",
       "      <th>income</th>\n",
       "      <th>Credit_Score</th>\n",
       "      <th>LTV</th>\n",
       "      <th>dtir1</th>\n",
       "    </tr>\n",
       "  </thead>\n",
       "  <tbody>\n",
       "    <tr>\n",
       "      <th>count</th>\n",
       "      <td>1.486700e+05</td>\n",
       "      <td>148670.000000</td>\n",
       "      <td>148670.000000</td>\n",
       "      <td>148670.000000</td>\n",
       "      <td>148670.000000</td>\n",
       "      <td>1.486700e+05</td>\n",
       "      <td>148670.000000</td>\n",
       "      <td>148670.000000</td>\n",
       "      <td>148670.000000</td>\n",
       "      <td>148670.000000</td>\n",
       "    </tr>\n",
       "    <tr>\n",
       "      <th>mean</th>\n",
       "      <td>3.311177e+05</td>\n",
       "      <td>4.045476</td>\n",
       "      <td>0.441656</td>\n",
       "      <td>3224.996127</td>\n",
       "      <td>335.143438</td>\n",
       "      <td>4.978935e+05</td>\n",
       "      <td>7016.303341</td>\n",
       "      <td>699.789103</td>\n",
       "      <td>65.426067</td>\n",
       "      <td>40.500625</td>\n",
       "    </tr>\n",
       "    <tr>\n",
       "      <th>std</th>\n",
       "      <td>1.839093e+05</td>\n",
       "      <td>0.487764</td>\n",
       "      <td>0.445359</td>\n",
       "      <td>2784.133285</td>\n",
       "      <td>58.402488</td>\n",
       "      <td>3.411696e+05</td>\n",
       "      <td>6260.537217</td>\n",
       "      <td>115.875857</td>\n",
       "      <td>43.695528</td>\n",
       "      <td>18.232419</td>\n",
       "    </tr>\n",
       "    <tr>\n",
       "      <th>min</th>\n",
       "      <td>1.650000e+04</td>\n",
       "      <td>0.000000</td>\n",
       "      <td>-3.638000</td>\n",
       "      <td>0.000000</td>\n",
       "      <td>96.000000</td>\n",
       "      <td>8.000000e+03</td>\n",
       "      <td>60.000000</td>\n",
       "      <td>500.000000</td>\n",
       "      <td>0.033140</td>\n",
       "      <td>1.961806</td>\n",
       "    </tr>\n",
       "    <tr>\n",
       "      <th>25%</th>\n",
       "      <td>1.965000e+05</td>\n",
       "      <td>3.750000</td>\n",
       "      <td>0.181500</td>\n",
       "      <td>1250.000000</td>\n",
       "      <td>360.000000</td>\n",
       "      <td>2.880000e+05</td>\n",
       "      <td>3900.000000</td>\n",
       "      <td>599.000000</td>\n",
       "      <td>54.584352</td>\n",
       "      <td>32.000000</td>\n",
       "    </tr>\n",
       "    <tr>\n",
       "      <th>50%</th>\n",
       "      <td>2.965000e+05</td>\n",
       "      <td>4.045476</td>\n",
       "      <td>0.441656</td>\n",
       "      <td>3224.996127</td>\n",
       "      <td>360.000000</td>\n",
       "      <td>4.580000e+05</td>\n",
       "      <td>6120.000000</td>\n",
       "      <td>699.000000</td>\n",
       "      <td>73.026316</td>\n",
       "      <td>40.000000</td>\n",
       "    </tr>\n",
       "    <tr>\n",
       "      <th>75%</th>\n",
       "      <td>4.365000e+05</td>\n",
       "      <td>4.250000</td>\n",
       "      <td>0.620000</td>\n",
       "      <td>3889.495000</td>\n",
       "      <td>360.000000</td>\n",
       "      <td>5.980000e+05</td>\n",
       "      <td>8280.000000</td>\n",
       "      <td>800.000000</td>\n",
       "      <td>84.722222</td>\n",
       "      <td>47.000000</td>\n",
       "    </tr>\n",
       "    <tr>\n",
       "      <th>max</th>\n",
       "      <td>3.576500e+06</td>\n",
       "      <td>8.000000</td>\n",
       "      <td>3.357000</td>\n",
       "      <td>60000.000000</td>\n",
       "      <td>360.000000</td>\n",
       "      <td>1.650800e+07</td>\n",
       "      <td>578580.000000</td>\n",
       "      <td>900.000000</td>\n",
       "      <td>7831.250000</td>\n",
       "      <td>2455.000000</td>\n",
       "    </tr>\n",
       "  </tbody>\n",
       "</table>\n",
       "</div>"
      ],
      "text/plain": [
       "        loan_amount  rate_of_interest  Interest_rate_spread  Upfront_charges  \\\n",
       "count  1.486700e+05     148670.000000         148670.000000    148670.000000   \n",
       "mean   3.311177e+05          4.045476              0.441656      3224.996127   \n",
       "std    1.839093e+05          0.487764              0.445359      2784.133285   \n",
       "min    1.650000e+04          0.000000             -3.638000         0.000000   \n",
       "25%    1.965000e+05          3.750000              0.181500      1250.000000   \n",
       "50%    2.965000e+05          4.045476              0.441656      3224.996127   \n",
       "75%    4.365000e+05          4.250000              0.620000      3889.495000   \n",
       "max    3.576500e+06          8.000000              3.357000     60000.000000   \n",
       "\n",
       "                term  property_value         income   Credit_Score  \\\n",
       "count  148670.000000    1.486700e+05  148670.000000  148670.000000   \n",
       "mean      335.143438    4.978935e+05    7016.303341     699.789103   \n",
       "std        58.402488    3.411696e+05    6260.537217     115.875857   \n",
       "min        96.000000    8.000000e+03      60.000000     500.000000   \n",
       "25%       360.000000    2.880000e+05    3900.000000     599.000000   \n",
       "50%       360.000000    4.580000e+05    6120.000000     699.000000   \n",
       "75%       360.000000    5.980000e+05    8280.000000     800.000000   \n",
       "max       360.000000    1.650800e+07  578580.000000     900.000000   \n",
       "\n",
       "                 LTV          dtir1  \n",
       "count  148670.000000  148670.000000  \n",
       "mean       65.426067      40.500625  \n",
       "std        43.695528      18.232419  \n",
       "min         0.033140       1.961806  \n",
       "25%        54.584352      32.000000  \n",
       "50%        73.026316      40.000000  \n",
       "75%        84.722222      47.000000  \n",
       "max      7831.250000    2455.000000  "
      ]
     },
     "execution_count": 12,
     "metadata": {},
     "output_type": "execute_result"
    }
   ],
   "source": [
    "loan.describe()"
   ]
  },
  {
   "cell_type": "markdown",
   "id": "2899e7bc",
   "metadata": {
    "papermill": {
     "duration": 0.008841,
     "end_time": "2024-09-16T04:30:54.298410",
     "exception": false,
     "start_time": "2024-09-16T04:30:54.289569",
     "status": "completed"
    },
    "tags": []
   },
   "source": [
    "## Univariate Analysis"
   ]
  },
  {
   "cell_type": "code",
   "execution_count": 13,
   "id": "eb25302d",
   "metadata": {
    "papermill": {
     "duration": 0.019384,
     "end_time": "2024-09-16T04:30:54.326871",
     "exception": false,
     "start_time": "2024-09-16T04:30:54.307487",
     "status": "completed"
    },
    "tags": []
   },
   "outputs": [],
   "source": [
    "# Grouping features for visualization\n",
    "input_1 = ['loan_type', 'loan_purpose', 'Credit_Worthiness', 'open_credit', 'business_or_commercial', 'term', 'interest_only', 'lump_sum_payment', 'occupancy_type', 'Credit_Score', 'age', 'Security_Type']\n",
    "input_2 = ['loan_amount', 'Upfront_charges', 'property_value', 'income', ]\n",
    "input_3 = ['rate_of_interest', 'Interest_rate_spread', 'LTV', 'dtir1']"
   ]
  },
  {
   "cell_type": "code",
   "execution_count": 14,
   "id": "72c8d806",
   "metadata": {
    "papermill": {
     "duration": 17.077751,
     "end_time": "2024-09-16T04:31:11.414023",
     "exception": false,
     "start_time": "2024-09-16T04:30:54.336272",
     "status": "completed"
    },
    "tags": []
   },
   "outputs": [
    {
     "data": {
      "image/png": "[encoded data removed]",
      "text/plain": [
       "<Figure size 1440x1080 with 12 Axes>"
      ]
     },
     "metadata": {
      "needs_background": "light"
     },
     "output_type": "display_data"
    }
   ],
   "source": [
    "import warnings\n",
    "warnings.filterwarnings(\"ignore\", category=FutureWarning, module=\"seaborn._oldcore\")\n",
    "\n",
    "sns.set_theme(style=\"ticks\", palette=\"muted\")\n",
    "f1 = plt.figure(figsize=(20,15))\n",
    "for col in input_1:\n",
    "    i = input_1.index(col) + 1\n",
    "    ax = f1.add_subplot(4,4,i)\n",
    "    g1 = sns.histplot(loan, x=loan[col], legend=True, hue='Status', binwidth=.5, multiple='stack')\n",
    "    g1.set(ylabel=None)"
   ]
  },
  {
   "cell_type": "code",
   "execution_count": 15,
   "id": "baa1d8ff",
   "metadata": {
    "papermill": {
     "duration": 1.585748,
     "end_time": "2024-09-16T04:31:13.011437",
     "exception": false,
     "start_time": "2024-09-16T04:31:11.425689",
     "status": "completed"
    },
    "tags": []
   },
   "outputs": [
    {
     "data": {
      "image/png": "[encoded data removed]",
      "text/plain": [
       "<Figure size 2160x2160 with 4 Axes>"
      ]
     },
     "metadata": {
      "needs_background": "light"
     },
     "output_type": "display_data"
    }
   ],
   "source": [
    "\n",
    "f2 = plt.figure(figsize=(30,30))\n",
    "for col in input_2:\n",
    "    i = input_2.index(col) + 1\n",
    "    ax = f2.add_subplot(4,4,i)\n",
    "    g2 = sns.boxplot(loan, y=col, x='Status', width=.6)"
   ]
  },
  {
   "cell_type": "code",
   "execution_count": 16,
   "id": "ebfcec6c",
   "metadata": {
    "papermill": {
     "duration": 1.321842,
     "end_time": "2024-09-16T04:31:14.346194",
     "exception": false,
     "start_time": "2024-09-16T04:31:13.024352",
     "status": "completed"
    },
    "tags": []
   },
   "outputs": [
    {
     "data": {
      "image/png": "[encoded data removed]",
      "text/plain": [
       "<Figure size 1800x1800 with 4 Axes>"
      ]
     },
     "metadata": {
      "needs_background": "light"
     },
     "output_type": "display_data"
    }
   ],
   "source": [
    "f3 = plt.figure(figsize=(25,25))\n",
    "for col in input_3:\n",
    "    i = input_3.index(col) + 1\n",
    "    ax = f3.add_subplot(4,4,i)\n",
    "    g3 = sns.boxplot(loan, y=col, x='Status', width=.6)"
   ]
  },
  {
   "cell_type": "code",
   "execution_count": null,
   "id": "7ac79a55-4db8-4e9f-a8bb-ba3a6b5d8de6",
   "metadata": {},
   "outputs": [],
   "source": []
  }
 ],
 "metadata": {
  "kaggle": {
   "accelerator": "none",
   "dataSources": [
    {
     "datasetId": 1897041,
     "sourceId": 3106815,
     "sourceType": "datasetVersion"
    }
   ],
   "dockerImageVersionId": 30761,
   "isGpuEnabled": false,
   "isInternetEnabled": true,
   "language": "python",
   "sourceType": "notebook"
  },
  "kernelspec": {
   "display_name": "Python 3 (ipykernel)",
   "language": "python",
   "name": "python3"
  },
  "language_info": {
   "codemirror_mode": {
    "name": "ipython",
    "version": 3
   },
   "file_extension": ".py",
   "mimetype": "text/x-python",
   "name": "python",
   "nbconvert_exporter": "python",
   "pygments_lexer": "ipython3",
   "version": "3.10.13"
  },
  "papermill": {
   "default_parameters": {},
   "duration": 29.953105,
   "end_time": "2024-09-16T04:31:15.283341",
   "environment_variables": {},
   "exception": null,
   "input_path": "__notebook__.ipynb",
   "output_path": "__notebook__.ipynb",
   "parameters": {},
   "start_time": "2024-09-16T04:30:45.330236",
   "version": "2.6.0"
  }
 },
 "nbformat": 4,
 "nbformat_minor": 5
}
